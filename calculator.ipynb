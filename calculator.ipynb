{
 "cells": [
  {
   "cell_type": "code",
   "execution_count": 1,
   "id": "999bfe27-1682-4df3-9f07-4f8e093ed4fd",
   "metadata": {},
   "outputs": [
    {
     "name": "stdout",
     "output_type": "stream",
     "text": [
      "📱 Simple Calculator\n"
     ]
    },
    {
     "name": "stdin",
     "output_type": "stream",
     "text": [
      "Enter first number:  8465\n",
      "Enter operation (+, -, *, /):  +\n",
      "Enter second number:  78452\n"
     ]
    },
    {
     "name": "stdout",
     "output_type": "stream",
     "text": [
      "Result: 86917.0\n"
     ]
    }
   ],
   "source": [
    "# calculator.py\n",
    "def add(x, y): return x + y\n",
    "def subtract(x, y): return x - y\n",
    "def multiply(x, y): return x * y\n",
    "def divide(x, y): return x / y if y != 0 else \"Error: Division by zero\"\n",
    "\n",
    "print(\"📱 Simple Calculator\")\n",
    "x = float(input(\"Enter first number: \"))\n",
    "op = input(\"Enter operation (+, -, *, /): \")\n",
    "y = float(input(\"Enter second number: \"))\n",
    "\n",
    "if op == '+':\n",
    "    print(\"Result:\", add(x, y))\n",
    "elif op == '-':\n",
    "    print(\"Result:\", subtract(x, y))\n",
    "elif op == '*':\n",
    "    print(\"Result:\", multiply(x, y))\n",
    "elif op == '/':\n",
    "    print(\"Result:\", divide(x, y))\n",
    "else:\n",
    "    print(\"Unknown operator.\")\n"
   ]
  },
  {
   "cell_type": "code",
   "execution_count": null,
   "id": "3df4d083-380e-478c-afcb-2178d37c0f26",
   "metadata": {},
   "outputs": [],
   "source": []
  }
 ],
 "metadata": {
  "kernelspec": {
   "display_name": "Python 3 (ipykernel)",
   "language": "python",
   "name": "python3"
  },
  "language_info": {
   "codemirror_mode": {
    "name": "ipython",
    "version": 3
   },
   "file_extension": ".py",
   "mimetype": "text/x-python",
   "name": "python",
   "nbconvert_exporter": "python",
   "pygments_lexer": "ipython3",
   "version": "3.12.4"
  }
 },
 "nbformat": 4,
 "nbformat_minor": 5
}
