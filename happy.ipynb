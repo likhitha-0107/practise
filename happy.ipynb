{
 "cells": [
  {
   "cell_type": "code",
   "execution_count": null,
   "id": "6dbad465-a992-487b-bb1d-83397d204085",
   "metadata": {},
   "outputs": [],
   "source": [
    "def is_happy(n):\n",
    "    seen =set()\n",
    "    while n != 1 and n not in seen:\n",
    "        seen.add(n)\n",
    "        sum=0\n",
    "        while n>0:\n",
    "            digit=n%10\n",
    "            sum+=digit*digit\n",
    "            n//=10\n",
    "        n=sum\n",
    "    if n==1:\n",
    "        print(\"happy number\")\n",
    "    else:\n",
    "        print(\"not happy number\")\n",
    "is_happy(39)"
   ]
  }
 ],
 "metadata": {
  "kernelspec": {
   "display_name": "Python 3 (ipykernel)",
   "language": "python",
   "name": "python3"
  },
  "language_info": {
   "codemirror_mode": {
    "name": "ipython",
    "version": 3
   },
   "file_extension": ".py",
   "mimetype": "text/x-python",
   "name": "python",
   "nbconvert_exporter": "python",
   "pygments_lexer": "ipython3",
   "version": "3.12.4"
  }
 },
 "nbformat": 4,
 "nbformat_minor": 5
}
