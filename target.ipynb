{
 "cells": [
  {
   "cell_type": "code",
   "execution_count": 7,
   "id": "7f69e4e5-c6f8-4660-8a0f-8aa14e2e5b55",
   "metadata": {},
   "outputs": [
    {
     "name": "stdout",
     "output_type": "stream",
     "text": [
      "Target not found\n"
     ]
    }
   ],
   "source": [
    "a = [1, 2, 3, 1, 4, 1]\n",
    "tar = 5\n",
    "last_index = -1\n",
    "\n",
    "for i in range(len(a)):\n",
    "    if a[i] == tar:\n",
    "        last_index = i\n",
    "\n",
    "if last_index != -1:\n",
    "    print(\"Last index:\", last_index)\n",
    "else:\n",
    "    print(\"Target not found\")\n"
   ]
  },
  {
   "cell_type": "code",
   "execution_count": null,
   "id": "e4d23d24-b0ba-4bf5-b68d-3399988858a3",
   "metadata": {},
   "outputs": [],
   "source": []
  }
 ],
 "metadata": {
  "kernelspec": {
   "display_name": "Python 3 (ipykernel)",
   "language": "python",
   "name": "python3"
  },
  "language_info": {
   "codemirror_mode": {
    "name": "ipython",
    "version": 3
   },
   "file_extension": ".py",
   "mimetype": "text/x-python",
   "name": "python",
   "nbconvert_exporter": "python",
   "pygments_lexer": "ipython3",
   "version": "3.12.4"
  }
 },
 "nbformat": 4,
 "nbformat_minor": 5
}
