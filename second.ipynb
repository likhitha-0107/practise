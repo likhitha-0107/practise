{
 "cells": [
  {
   "cell_type": "code",
   "execution_count": 1,
   "id": "83695ad0-0c38-42f1-a091-010fd850a845",
   "metadata": {},
   "outputs": [
    {
     "name": "stdout",
     "output_type": "stream",
     "text": [
      "21\n"
     ]
    }
   ],
   "source": [
    "def second_max(a):\n",
    "    if a[0]>a[1]:\n",
    "        first=a[0]\n",
    "        second=a[1]\n",
    "    else:\n",
    "        first=a[1]\n",
    "        second=a[0]\n",
    "    for i in range(2,len(a)):\n",
    "        if a[i]>first:\n",
    "            second=first\n",
    "            first=a[i]\n",
    "        elif a[i]>second and a[i]!=first:\n",
    "            second=a[i]\n",
    "    return second\n",
    "a=[2,5,4,7,8,21,12,14,16,179,6,1]\n",
    "sec=second_max(a)\n",
    "print(sec)"
   ]
  },
  {
   "cell_type": "code",
   "execution_count": null,
   "id": "58def689-4435-4858-910a-78c27290bec0",
   "metadata": {},
   "outputs": [],
   "source": []
  }
 ],
 "metadata": {
  "kernelspec": {
   "display_name": "Python 3 (ipykernel)",
   "language": "python",
   "name": "python3"
  },
  "language_info": {
   "codemirror_mode": {
    "name": "ipython",
    "version": 3
   },
   "file_extension": ".py",
   "mimetype": "text/x-python",
   "name": "python",
   "nbconvert_exporter": "python",
   "pygments_lexer": "ipython3",
   "version": "3.12.4"
  }
 },
 "nbformat": 4,
 "nbformat_minor": 5
}
