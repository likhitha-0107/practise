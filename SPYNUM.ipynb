{
 "cells": [
  {
   "cell_type": "code",
   "execution_count": 3,
   "id": "db8668c1-7ba8-4d11-bbbd-53635d5c4cbd",
   "metadata": {},
   "outputs": [
    {
     "name": "stdout",
     "output_type": "stream",
     "text": [
      "Not a spy number\n"
     ]
    }
   ],
   "source": [
    "#Spy Number\n",
    "def spy_number(n):\n",
    "    sum=0\n",
    "    product=1\n",
    "    while n>0:\n",
    "        rem=n%10\n",
    "        sum=sum+rem\n",
    "        product=product*rem\n",
    "        n=n//10\n",
    "    if sum==product:\n",
    "        print(\"Spy number\")\n",
    "    else:\n",
    "        print(\"Not a spy number\")\n",
    "spy_number(1705)"
   ]
  },
  {
   "cell_type": "code",
   "execution_count": null,
   "id": "3776488a-66b4-4a5e-865e-ad1aa63e66f5",
   "metadata": {},
   "outputs": [],
   "source": []
  },
  {
   "cell_type": "code",
   "execution_count": null,
   "id": "87002e5d-7176-4edd-92d6-88763aa28112",
   "metadata": {},
   "outputs": [],
   "source": []
  }
 ],
 "metadata": {
  "kernelspec": {
   "display_name": "Python 3 (ipykernel)",
   "language": "python",
   "name": "python3"
  },
  "language_info": {
   "codemirror_mode": {
    "name": "ipython",
    "version": 3
   },
   "file_extension": ".py",
   "mimetype": "text/x-python",
   "name": "python",
   "nbconvert_exporter": "python",
   "pygments_lexer": "ipython3",
   "version": "3.12.4"
  }
 },
 "nbformat": 4,
 "nbformat_minor": 5
}
