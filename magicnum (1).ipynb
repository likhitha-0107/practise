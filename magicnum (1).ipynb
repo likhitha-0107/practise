{
 "cells": [
  {
   "cell_type": "code",
   "execution_count": 11,
   "id": "ce6a0f0e-44ff-46f6-899c-484549d8848d",
   "metadata": {},
   "outputs": [
    {
     "name": "stdout",
     "output_type": "stream",
     "text": [
      "magic number\n"
     ]
    }
   ],
   "source": [
    "def magic_num(n):\n",
    "    sum = n\n",
    "    while sum > 9:\n",
    "        temp = sum\n",
    "        sum = 0\n",
    "        while temp > 0:\n",
    "            sum += temp % 10\n",
    "            temp //= 10\n",
    "    if sum == 1:\n",
    "        print(\"magic number\")\n",
    "    else:\n",
    "        print(\"not a magic number\")\n",
    "\n",
    "magic_num(100)"
   ]
  },
  {
   "cell_type": "code",
   "execution_count": null,
   "id": "f5dadbdb-f37a-4016-97cb-f1b5ecd6241e",
   "metadata": {},
   "outputs": [],
   "source": []
  }
 ],
 "metadata": {
  "kernelspec": {
   "display_name": "Python 3 (ipykernel)",
   "language": "python",
   "name": "python3"
  },
  "language_info": {
   "codemirror_mode": {
    "name": "ipython",
    "version": 3
   },
   "file_extension": ".py",
   "mimetype": "text/x-python",
   "name": "python",
   "nbconvert_exporter": "python",
   "pygments_lexer": "ipython3",
   "version": "3.12.4"
  }
 },
 "nbformat": 4,
 "nbformat_minor": 5
}
